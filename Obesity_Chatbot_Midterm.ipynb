{
 "cells": [
  {
   "cell_type": "markdown",
   "metadata": {},
   "source": [
    "# Obesity Chatbot"
   ]
  },
  {
   "cell_type": "markdown",
   "metadata": {
    "id": "wujPjGJuoPwg"
   },
   "source": [
    "## Task 1: Environment Variables"
   ]
  },
  {
   "cell_type": "code",
   "execution_count": 141,
   "metadata": {
    "colab": {
     "base_uri": "https://localhost:8080/"
    },
    "id": "Jdh8CoVWHRvs",
    "outputId": "3fa78560-393c-4ee5-b871-9886bf0d70f4"
   },
   "outputs": [],
   "source": [
    "import os\n",
    "import getpass\n",
    "\n",
    "os.environ[\"OPENAI_API_KEY\"] = getpass.getpass(\"OpenAI API Key:\")"
   ]
  },
  {
   "cell_type": "markdown",
   "metadata": {
    "id": "BLmneW40276B"
   },
   "source": []
  },
  {
   "cell_type": "code",
   "execution_count": 142,
   "metadata": {
    "colab": {
     "base_uri": "https://localhost:8080/"
    },
    "id": "Jkla2fpx28QK",
    "outputId": "52d7ad22-fcb1-4abe-853b-216c55a12650"
   },
   "outputs": [],
   "source": [
    "os.environ[\"TAVILY_API_KEY\"] = getpass.getpass(\"TAVILY_API_KEY\")"
   ]
  },
  {
   "cell_type": "code",
   "execution_count": 143,
   "metadata": {},
   "outputs": [],
   "source": [
    "os.environ[\"GOOGLE_API_KEY\"] = getpass.getpass(\"GOOGLE_API_KEY\")"
   ]
  },
  {
   "cell_type": "code",
   "execution_count": 144,
   "metadata": {},
   "outputs": [],
   "source": [
    "os.environ[\"GOOGLE_CSE_ID\"] = getpass.getpass(\"GOOGLE_CSE_ID\")"
   ]
  },
  {
   "cell_type": "code",
   "execution_count": 145,
   "metadata": {
    "colab": {
     "base_uri": "https://localhost:8080/"
    },
    "id": "Nv0glIDyHmRt",
    "outputId": "b69df90a-b4e1-4ddb-9de0-882d98b68ab2"
   },
   "outputs": [],
   "source": [
    "from uuid import uuid4\n",
    "\n",
    "os.environ[\"LANGCHAIN_TRACING_V2\"] = \"true\"\n",
    "os.environ[\"LANGCHAIN_PROJECT\"] = f\"AIE5 - LangGraph - {uuid4().hex[0:8]}\"\n",
    "os.environ[\"LANGCHAIN_API_KEY\"] = getpass.getpass(\"LangSmith API Key: \")"
   ]
  },
  {
   "cell_type": "markdown",
   "metadata": {},
   "source": [
    "## Task 2: Setup RAG and SDG"
   ]
  },
  {
   "cell_type": "code",
   "execution_count": 146,
   "metadata": {},
   "outputs": [],
   "source": [
    "from langchain_community.document_loaders import DirectoryLoader\n",
    "\n",
    "path = \"data/\"\n",
    "loader = DirectoryLoader(path, glob=\"*.pdf\")\n",
    "docs = loader.load()"
   ]
  },
  {
   "cell_type": "code",
   "execution_count": 147,
   "metadata": {},
   "outputs": [
    {
     "data": {
      "text/plain": [
       "535"
      ]
     },
     "execution_count": 147,
     "metadata": {},
     "output_type": "execute_result"
    }
   ],
   "source": [
    "from langchain.text_splitter import RecursiveCharacterTextSplitter\n",
    "\n",
    "text_splitter = RecursiveCharacterTextSplitter(chunk_size=1000, chunk_overlap=200)\n",
    "split_documents = text_splitter.split_documents(docs)\n",
    "len(split_documents)"
   ]
  },
  {
   "cell_type": "code",
   "execution_count": 148,
   "metadata": {},
   "outputs": [],
   "source": [
    "from langchain_openai import OpenAIEmbeddings\n",
    "\n",
    "embeddings = OpenAIEmbeddings(model=\"text-embedding-3-small\")"
   ]
  },
  {
   "cell_type": "code",
   "execution_count": 150,
   "metadata": {},
   "outputs": [],
   "source": [
    "from langchain.vectorstores import Qdrant\n",
    "from langchain.embeddings import OpenAIEmbeddings\n",
    "from qdrant_client import QdrantClient, models\n",
    "from qdrant_client.models import Distance, VectorParams\n",
    "\n",
    "client = QdrantClient(\":memory:\")\n",
    "\n",
    "client.create_collection(\n",
    "    collection_name=\"obecity_rag\",\n",
    "    vectors_config=VectorParams(size=1536, distance=Distance.COSINE),\n",
    ")\n",
    "\n",
    "vector_store = QdrantVectorStore(\n",
    "    client=client,\n",
    "    collection_name=\"obecity_rag\",\n",
    "    embedding=embeddings,\n",
    ")"
   ]
  },
  {
   "cell_type": "code",
   "execution_count": 151,
   "metadata": {},
   "outputs": [],
   "source": [
    "_ = vector_store.add_documents(documents=split_documents)\n",
    "retriever = vector_store.as_retriever(search_kwargs={\"k\": 5})\n",
    "def retrieve(state):\n",
    "  retrieved_docs = retriever.invoke(state[\"question\"])\n",
    "  return {\"context\" : retrieved_docs}"
   ]
  },
  {
   "cell_type": "code",
   "execution_count": 152,
   "metadata": {},
   "outputs": [],
   "source": [
    "from langchain.prompts import ChatPromptTemplate\n",
    "\n",
    "RAG_PROMPT = \"\"\"\\\n",
    "You are a helpful assistant who will do the following:\n",
    "1. Be clear and detailed\n",
    "2. Stay relevant to the context of the question\n",
    "\n",
    "Follow these guidelines while responding:\n",
    "- Assist in setting realistic and achievable weight-loss goals that are tailored to individual [needs] and [lifestyle]. The process should involve an initial assessment of current habits, health status, and lifestyle to establish a baseline. From there, develop a structured, step-by-step plan that includes short-term milestones and long-term objectives. The plan should be flexible enough to adjust as progress is made but structured enough to provide clear direction. Incorporate strategies for overcoming common obstacles, such as motivation dips and plateaus, and recommend tools or resources for tracking progress. Ensure the goals are SMART (Specific, Measurable, Achievable, Relevant, and Time-bound) to increase the likelihood of success.\n",
    "- Your task is to identify and help address unhelpful eating patterns in the client seeking to improve their health and wellness. Begin by conducting a comprehensive assessment to understand the client's current eating habits, lifestyle, and underlying factors contributing to their eating patterns. Develop a personalized plan that incorporates achievable goals, mindful eating strategies, and healthier food choices. Provide ongoing support, motivation, and adjustments to the plan based on the client’s progress and feedback. Your approach should be empathetic, evidence-based, and tailored to each client's unique needs, aiming to foster sustainable, positive changes in their eating habits.\n",
    "- Act as a fitness coach. Develop a personalized workout routine specifically tailored to meet the client's [fitness goal]. The routine must consider the client's current fitness level, any potential limitations or injuries, and their available equipment. It should include a mix of cardiovascular exercises, strength training, flexibility workouts, and recovery activities. Provide clear instructions for each exercise, suggest the number of sets and repetitions, and offer guidance on proper form to maximize effectiveness and minimize the risk of injury.\n",
    "- As a Personal Chef specialized in creating customized meal plans, design a meal plan tailored to specific dietary preferences. This plan should cater to the client's [health goals], [taste preferences], and any [dietary restrictions] they might have. The meal plan should cover breakfast, lunch, dinner, and snack options for one week, ensuring a balanced and nutritious diet. Include a detailed list of ingredients for each meal, preparation instructions that are easy to follow, and tips for meal prepping to save time.\n",
    "\n",
    "### Question\n",
    "{question}\n",
    "\n",
    "### Context\n",
    "{context}\n",
    "\"\"\"\n",
    "\n",
    "rag_prompt = ChatPromptTemplate.from_template(RAG_PROMPT)"
   ]
  },
  {
   "cell_type": "code",
   "execution_count": 153,
   "metadata": {},
   "outputs": [],
   "source": [
    "from langchain_openai import ChatOpenAI\n",
    "\n",
    "llm = ChatOpenAI(model=\"gpt-4o-mini\")"
   ]
  },
  {
   "cell_type": "code",
   "execution_count": 154,
   "metadata": {},
   "outputs": [],
   "source": [
    "def generate(state):\n",
    "  docs_content = \"\\n\\n\".join(doc.page_content for doc in state[\"context\"])\n",
    "  messages = rag_prompt.format_messages(question=state[\"question\"], context=docs_content)\n",
    "  response = llm.invoke(messages)\n",
    "  return {\"response\" : response.content}"
   ]
  },
  {
   "cell_type": "code",
   "execution_count": 155,
   "metadata": {},
   "outputs": [],
   "source": [
    "from langgraph.graph import START, StateGraph\n",
    "from typing_extensions import List, TypedDict\n",
    "from langchain_core.documents import Document\n",
    "\n",
    "class State(TypedDict):\n",
    "  question: str\n",
    "  context: List[Document]\n",
    "  response: str"
   ]
  },
  {
   "cell_type": "code",
   "execution_count": 156,
   "metadata": {},
   "outputs": [],
   "source": [
    "graph_builder = StateGraph(State).add_sequence([retrieve, generate])\n",
    "graph_builder.add_edge(START, \"retrieve\")\n",
    "graph = graph_builder.compile()"
   ]
  },
  {
   "cell_type": "code",
   "execution_count": 157,
   "metadata": {},
   "outputs": [],
   "source": [
    "response = graph.invoke({\"question\" : \"Why is obesity a big problem in America?\"})"
   ]
  },
  {
   "cell_type": "code",
   "execution_count": 158,
   "metadata": {},
   "outputs": [
    {
     "data": {
      "text/plain": [
       "'Obesity is a significant public health problem in America for several interrelated reasons, including the prevalence of obesity, its health implications, economic burdens, and the complex environmental and societal factors contributing to its rise. Here’s a detailed breakdown:\\n\\n### 1. **Prevalence and Statistics**\\nThe prevalence of obesity in the United States has reached alarming levels, with about 42% of adults classified as having obesity based on a Body Mass Index (BMI) of 30 or greater. Among specific demographic groups, the rates can be even higher, with nearly half of non-Hispanic Black adults experiencing obesity. The progression of obesity rates indicates a worrying trend; it is projected that nearly 49% of U.S. adults could have obesity by 2030. This increase in obesity prevalence poses a critical public health challenge, as it is associated with numerous health complications such as diabetes, cardiovascular diseases, and certain types of cancer.\\n\\n### 2. **Health Complications**\\nObesity is a chronic disease characterized by excess fat that not only impacts physical health but also leads to increased morbidity and mortality. It is linked to several severe health conditions including:\\n- Type 2 diabetes\\n- Hypertension\\n- Heart disease\\n- Stroke\\n- Certain cancers\\n- Sleep apnea\\n\\nThese conditions have severe implications for the quality of life, healthcare costs, and overall public health. The estimated annual economic burden of obesity on the U.S. healthcare system is around $173 billion, making it one of the most pressing health issues of our time.\\n\\n### 3. **Economic Burden**\\nThe financial impact of obesity extends beyond direct medical costs to incorporate broader economic issues such as lost productivity and increased disability rates. As obesity becomes more prevalent, the demand for healthcare services increases, which adds further strain to the already burdened healthcare system. The costs associated with treating obesity-related conditions and complications are significant, raising issues regarding insurance coverage and economic responsibility for treatment.\\n\\n### 4. **Toxic Food Environment**\\nThe rise in obesity can also be attributed to what researchers term a \"toxic food environment.\" This environment is characterized by:\\n- The availability and marketing of cheap, highly processed foods that are high in sugars, fats, and calories.\\n- Larger portion sizes in restaurants and markets that encourage overconsumption.\\n- Lifestyle changes that favor convenience, such as eating out or ordering takeout more often, leading to higher caloric intake compared to home-cooked meals.\\n  \\nThese factors are compounded by marketing strategies that aggressively promote unhealthy food choices, significantly impacting the eating behaviors of individuals.\\n\\n### 5. **Lack of Access to Healthy Options**\\nAccess to nutritious food varies greatly across different socioeconomic and demographic groups, with some communities deemed \"food deserts\" where affordable and healthy food options are limited. This variable access further complicates the obesity epidemic, making it difficult for some individuals to make healthier food choices.\\n\\n### 6. **Physical Inactivity**\\nAlongside dietary factors, increasing sedentary lifestyles have contributed to rising obesity rates. With technological advancements making daily activities less physically demanding, the overall levels of physical activity have decreased. Coupled with increased screen time, this leads to lower energy expenditure, exacerbating the obesity problem.\\n\\n### 7. **Social and Psychological Factors**\\nObesity is often accompanied by social stigma, which can lead to psychological distress, low self-esteem, and disconnection from medical support systems. Many individuals with obesity may avoid healthcare settings due to fear of bias, which can further hinder their access to preventive measures and treatment options.\\n\\n### Conclusion\\nThe complexity of the obesity epidemic in the United States stems from a combination of biological, environmental, social, and economic factors. Addressing this multi-faceted issue requires a comprehensive approach that considers individual behaviors, community resources, societal norms, and policies aimed at creating a healthier environment. Proposed actions include improving access to healthy foods, increasing physical activity opportunities, and promoting awareness and education around healthy lifestyle choices. The World Health Organization’s initiatives point towards coordinated strategies to tackle this growing public health crisis.'"
      ]
     },
     "execution_count": 158,
     "metadata": {},
     "output_type": "execute_result"
    }
   ],
   "source": [
    "response[\"response\"]"
   ]
  },
  {
   "cell_type": "code",
   "execution_count": 187,
   "metadata": {},
   "outputs": [
    {
     "name": "stdout",
     "output_type": "stream",
     "text": [
      "✅ Tool 0: Name='TavilySearch', Function='<lambda>'\n",
      "✅ Tool 1: Name='ArxivQuery', Function='<lambda>'\n",
      "✅ Tool 2: Name='GoogleSearch', Function='run'\n",
      "✅ Tool 3: Name='Obesity_QA_Tool', Function='ai_rag_tool'\n"
     ]
    }
   ],
   "source": [
    "for idx, tool in enumerate(tool_belt):\n",
    "    tool_name = getattr(tool, \"name\", f\"Unnamed_Tool_{idx}\")\n",
    "    tool_func_name = getattr(tool, \"func\", None)\n",
    "\n",
    "    if tool_func_name is None:\n",
    "        print(f\"⚠️ Tool {idx}: Name='{tool_name}' does not have a .func attribute (might not be a Tool instance)\")\n",
    "    else:\n",
    "        print(f\"✅ Tool {idx}: Name='{tool_name}', Function='{tool_func_name.__name__}'\")"
   ]
  },
  {
   "cell_type": "code",
   "execution_count": 182,
   "metadata": {},
   "outputs": [],
   "source": [
    "from langchain_core.tools import Tool\n",
    "from langchain_core.messages import HumanMessage\n",
    "\n",
    "\n",
    "#@Tool (name=\"Obesity Question Answering Tool\", description=\"Useful for when you need to answer questions about obesity. Input should be a fully formed question.\")\n",
    "def ai_rag_tool(question: str) -> str:\n",
    "    \"\"\"Useful for when you need to answer questions about obesity. Input should be a fully formed question.\"\"\"\n",
    "    response = graph.invoke({\"question\" : question})\n",
    "    return {\n",
    "        \"messages\" : [HumanMessage(content=response[\"response\"])],\n",
    "        \"context\" : response[\"context\"]\n",
    "    }\n",
    "\n",
    "ai_rag_tool_instance = Tool(\n",
    "    name=\"Obesity_QA_Tool\",  # ✅ No spaces, only letters, numbers, underscores, or hyphens\n",
    "    description=\"Useful for when you need to answer questions about obesity. Input should be a fully formed question.\",\n",
    "    func=ai_rag_tool\n",
    ")"
   ]
  },
  {
   "cell_type": "code",
   "execution_count": 191,
   "metadata": {},
   "outputs": [],
   "source": [
    "from langchain_community.tools.tavily_search import TavilySearchResults\n",
    "from langchain_community.tools.arxiv.tool import ArxivQueryRun\n",
    "from langchain_google_community import GoogleSearchAPIWrapper\n",
    "from langchain.tools import Tool\n",
    "\n",
    "tavily_tool = TavilySearchResults(max_results=5)\n",
    "google_search = Tool(\n",
    "    name=\"GoogleSearch\",\n",
    "    func=GoogleSearchAPIWrapper().run, # Use the .run method directly\n",
    "    description=\"Use this tool to search Google.\", # Provide a description\n",
    ")\n",
    "\n",
    "def tavily_search_func(query: str):\n",
    "    return TavilySearchResults(max_results=5).invoke({\"query\": query})\n",
    "\n",
    "tavily_tool_instance = Tool(\n",
    "    name=\"TavilySearch\",\n",
    "    func=tavily_search_func,  # ✅ Now has a proper function name\n",
    "    description=\"Use this tool to search Tavily.\"\n",
    ")\n",
    "\n",
    "def arxiv_query_func(query: str):\n",
    "    return ArxivQueryRun().invoke({\"query\": query})\n",
    "\n",
    "arxiv_tool_instance = Tool(\n",
    "    name=\"ArxivQuery\",\n",
    "    func=arxiv_query_func,  # ✅ Named function\n",
    "    description=\"Use this tool to search academic papers on Arxiv.\"\n",
    ")\n",
    "\n",
    "tool_belt = [\n",
    "    tavily_tool_instance,  # ✅ Now a valid `Tool`\n",
    "    arxiv_tool_instance,  # ✅ Now a valid `Tool`\n",
    "    google_search,  # ✅ Already correct\n",
    "    ai_rag_tool_instance,  # ✅ Already correct\n",
    "]"
   ]
  },
  {
   "cell_type": "code",
   "execution_count": 192,
   "metadata": {},
   "outputs": [],
   "source": [
    "from langchain_openai import ChatOpenAI\n",
    "\n",
    "model = ChatOpenAI(model=\"gpt-4o\", temperature=0)"
   ]
  },
  {
   "cell_type": "code",
   "execution_count": 193,
   "metadata": {},
   "outputs": [],
   "source": [
    "model = model.bind_tools(tool_belt)"
   ]
  },
  {
   "cell_type": "code",
   "execution_count": 194,
   "metadata": {},
   "outputs": [],
   "source": [
    "from typing import TypedDict, Annotated\n",
    "from langgraph.graph.message import add_messages\n",
    "import operator\n",
    "from langchain_core.messages import BaseMessage, HumanMessage\n",
    "from langchain_core.documents import Document\n",
    "\n",
    "class AgentState(TypedDict):\n",
    "  messages: Annotated[list, add_messages]\n",
    "  context: List[Document]"
   ]
  },
  {
   "cell_type": "code",
   "execution_count": 195,
   "metadata": {},
   "outputs": [],
   "source": [
    "from langgraph.prebuilt import ToolNode\n",
    "\n",
    "def call_model(state):\n",
    "  messages = state[\"messages\"]\n",
    "  response = model.invoke(messages)\n",
    "  return {\n",
    "        \"messages\" : [response],\n",
    "        \"context\" : state.get(\"context\", [])\n",
    "  }\n",
    "\n",
    "tool_node = ToolNode(tool_belt)"
   ]
  },
  {
   "cell_type": "code",
   "execution_count": 196,
   "metadata": {},
   "outputs": [
    {
     "data": {
      "text/plain": [
       "<langgraph.graph.state.StateGraph at 0x1586b0e90>"
      ]
     },
     "execution_count": 196,
     "metadata": {},
     "output_type": "execute_result"
    }
   ],
   "source": [
    "from langgraph.graph import StateGraph, END\n",
    "\n",
    "uncompiled_graph = StateGraph(AgentState)\n",
    "\n",
    "uncompiled_graph.add_node(\"agent\", call_model)\n",
    "uncompiled_graph.add_node(\"action\", tool_node)"
   ]
  },
  {
   "cell_type": "code",
   "execution_count": 197,
   "metadata": {},
   "outputs": [
    {
     "data": {
      "text/plain": [
       "<langgraph.graph.state.StateGraph at 0x1586b0e90>"
      ]
     },
     "execution_count": 197,
     "metadata": {},
     "output_type": "execute_result"
    }
   ],
   "source": [
    "uncompiled_graph.set_entry_point(\"agent\")"
   ]
  },
  {
   "cell_type": "code",
   "execution_count": 198,
   "metadata": {},
   "outputs": [
    {
     "data": {
      "text/plain": [
       "<langgraph.graph.state.StateGraph at 0x1586b0e90>"
      ]
     },
     "execution_count": 198,
     "metadata": {},
     "output_type": "execute_result"
    }
   ],
   "source": [
    "def should_continue(state):\n",
    "  last_message = state[\"messages\"][-1]\n",
    "\n",
    "  if last_message.tool_calls:\n",
    "    return \"action\"\n",
    "\n",
    "  return END\n",
    "\n",
    "uncompiled_graph.add_conditional_edges(\n",
    "    \"agent\",\n",
    "    should_continue\n",
    ")"
   ]
  },
  {
   "cell_type": "code",
   "execution_count": 199,
   "metadata": {},
   "outputs": [
    {
     "data": {
      "text/plain": [
       "<langgraph.graph.state.StateGraph at 0x1586b0e90>"
      ]
     },
     "execution_count": 199,
     "metadata": {},
     "output_type": "execute_result"
    }
   ],
   "source": [
    "uncompiled_graph.add_edge(\"action\", \"agent\")"
   ]
  },
  {
   "cell_type": "code",
   "execution_count": 200,
   "metadata": {},
   "outputs": [],
   "source": [
    "compiled_graph = uncompiled_graph.compile()"
   ]
  },
  {
   "cell_type": "code",
   "execution_count": 202,
   "metadata": {},
   "outputs": [
    {
     "name": "stdout",
     "output_type": "stream",
     "text": [
      "Receiving update from node: 'agent'\n",
      "[AIMessage(content='', additional_kwargs={'tool_calls': [{'id': 'call_5QdqZpsT4j1ZSTyOrtXmGQq0', 'function': {'arguments': '{\"__arg1\":\"current captain of Winnipeg Jets 2023\"}', 'name': 'GoogleSearch'}, 'type': 'function'}], 'refusal': None}, response_metadata={'token_usage': {'completion_tokens': 24, 'prompt_tokens': 168, 'total_tokens': 192, 'completion_tokens_details': {'accepted_prediction_tokens': 0, 'audio_tokens': 0, 'reasoning_tokens': 0, 'rejected_prediction_tokens': 0}, 'prompt_tokens_details': {'audio_tokens': 0, 'cached_tokens': 0}}, 'model_name': 'gpt-4o-2024-08-06', 'system_fingerprint': 'fp_eb9dce56a8', 'finish_reason': 'tool_calls', 'logprobs': None}, id='run-9a9b4e92-6088-40a8-81e7-409f8bf34509-0', tool_calls=[{'name': 'GoogleSearch', 'args': {'__arg1': 'current captain of Winnipeg Jets 2023'}, 'id': 'call_5QdqZpsT4j1ZSTyOrtXmGQq0', 'type': 'tool_call'}], usage_metadata={'input_tokens': 168, 'output_tokens': 24, 'total_tokens': 192, 'input_token_details': {'audio': 0, 'cache_read': 0}, 'output_token_details': {'audio': 0, 'reasoning': 0}})]\n",
      "\n",
      "\n",
      "\n",
      "Receiving update from node: 'action'\n",
      "Tool Used: GoogleSearch\n",
      "[ToolMessage(content=\"Sep 12, 2023 ... Winnipeg played without a captain last season after stripping Blake Wheeler of the title in September. Sep 12, 2023 ... Adam Lowry named Jets captain ... There are not many honours in team sports bigger than being named captain. That honour was given to Winnipeg Jet\\xa0... 2023-24, NHL · Adam Lowry · Josh Morrissey · Mark Scheifele. 2022-2023 2022-23, NHL ... New York Rangers · Pittsburgh Penguins · Toronto Maple Leafs. Links. About\\xa0... The National Hockey League (NHL) is a professional ice hockey league composed of 32 teams, founded in 1917. Each team may select a captain, who has the\\xa0... Season-by-Season Record - Regular Season ; 2024-25 · 40. 14 · 205. 137 ; 2023-24 · 52. 24 · 259. 198 ; 2022-23 · 46. 33 · 246. 224. Team captains · Andrew Ladd, 2011–2016 · Blake Wheeler, 2016–2022 · Adam Lowry, 2023–present\\xa0... Dec 6, 2024 ... 2024-25 season list. Brad Marchand was named captain of the Boston Bruins prior to the start of the 2023-24 NHL season. ... Winnipeg Jets: Adam\\xa0... Sep 12, 2023 ... Adam Lowry, who has been a Jet since 2011 when he was drafted 67th overall, is the new captain of the NHL team — its third since relocating to\\xa0... Oct 10, 2023 ... Some feel he is the easy choice for face of the franchise, #1 draft pick of Jets 2.0, wants to stay on one team for career etc. Archived post. Winnipeg Jets name Adam Lowry captain. Canadian Press. September 14, 2023 - 3:39pm ... Sean Reynolds speaks with the Winnipeg Jets' new captain Adam Lowry\\xa0...\", name='GoogleSearch', id='d08cf12b-72d7-48f7-93d8-90ffdc672ed7', tool_call_id='call_5QdqZpsT4j1ZSTyOrtXmGQq0')]\n",
      "\n",
      "\n",
      "\n",
      "Receiving update from node: 'agent'\n",
      "[AIMessage(content='The current captain of the Winnipeg Jets is Adam Lowry, who was named captain in 2023.', additional_kwargs={'refusal': None}, response_metadata={'token_usage': {'completion_tokens': 23, 'prompt_tokens': 629, 'total_tokens': 652, 'completion_tokens_details': {'accepted_prediction_tokens': 0, 'audio_tokens': 0, 'reasoning_tokens': 0, 'rejected_prediction_tokens': 0}, 'prompt_tokens_details': {'audio_tokens': 0, 'cached_tokens': 0}}, 'model_name': 'gpt-4o-2024-08-06', 'system_fingerprint': 'fp_eb9dce56a8', 'finish_reason': 'stop', 'logprobs': None}, id='run-8e1eee83-6295-4a3d-ad37-bd4ef11974e5-0', usage_metadata={'input_tokens': 629, 'output_tokens': 23, 'total_tokens': 652, 'input_token_details': {'audio': 0, 'cache_read': 0}, 'output_token_details': {'audio': 0, 'reasoning': 0}})]\n",
      "\n",
      "\n",
      "\n"
     ]
    }
   ],
   "source": [
    "from langchain_core.messages import HumanMessage\n",
    "\n",
    "#inputs = {\"messages\" : [HumanMessage(content=\"Search Arxiv for the QLoRA paper, then search each of the authors to find out their latest Tweet using Tavily!\")]}\n",
    "#inputs = {\"messages\" : [HumanMessage(content=\"What is the impact of weightloss on obesity. You will perform perform evidence search using Arxiv and correlate with statements from the news article that needs to be verified using Tavily, and match them with reliable sources such as government or healthcare websites using google searchthat corroborate the findings.\")]}\n",
    "\n",
    "inputs = {\"messages\" : [HumanMessage(content=\"Who is the current captain of winnipeg jets?\")]}\n",
    "\n",
    "async for chunk in compiled_graph.astream(inputs, stream_mode=\"updates\"):\n",
    "    for node, values in chunk.items():\n",
    "        print(f\"Receiving update from node: '{node}'\")\n",
    "        if node == \"action\":\n",
    "          print(f\"Tool Used: {values['messages'][0].name}\")\n",
    "        print(values[\"messages\"])\n",
    "\n",
    "        print(\"\\n\\n\")"
   ]
  },
  {
   "cell_type": "markdown",
   "metadata": {},
   "source": [
    "## RAGAS Baseline "
   ]
  },
  {
   "cell_type": "code",
   "execution_count": 203,
   "metadata": {},
   "outputs": [],
   "source": [
    "from ragas.llms import LangchainLLMWrapper\n",
    "from ragas.embeddings import LangchainEmbeddingsWrapper\n",
    "from langchain_openai import ChatOpenAI\n",
    "from langchain_openai import OpenAIEmbeddings\n",
    "generator_llm = LangchainLLMWrapper(ChatOpenAI(model=\"gpt-4o\"))\n",
    "generator_embeddings = LangchainEmbeddingsWrapper(OpenAIEmbeddings())"
   ]
  },
  {
   "cell_type": "code",
   "execution_count": 204,
   "metadata": {},
   "outputs": [
    {
     "name": "stderr",
     "output_type": "stream",
     "text": [
      "Generating personas: 100%|██████████| 3/3 [00:01<00:00,  2.65it/s]                                           \n",
      "Generating Scenarios: 100%|██████████| 3/3 [00:12<00:00,  4.13s/it]\n",
      "Generating Samples: 100%|██████████| 12/12 [00:09<00:00,  1.27it/s]\n"
     ]
    }
   ],
   "source": [
    "from ragas.testset import TestsetGenerator\n",
    "\n",
    "generator = TestsetGenerator(llm=generator_llm, embedding_model=generator_embeddings)\n",
    "dataset = generator.generate_with_langchain_docs(docs, testset_size=10)"
   ]
  },
  {
   "cell_type": "code",
   "execution_count": 205,
   "metadata": {},
   "outputs": [
    {
     "data": {
      "text/html": [
       "<div>\n",
       "<style scoped>\n",
       "    .dataframe tbody tr th:only-of-type {\n",
       "        vertical-align: middle;\n",
       "    }\n",
       "\n",
       "    .dataframe tbody tr th {\n",
       "        vertical-align: top;\n",
       "    }\n",
       "\n",
       "    .dataframe thead th {\n",
       "        text-align: right;\n",
       "    }\n",
       "</style>\n",
       "<table border=\"1\" class=\"dataframe\">\n",
       "  <thead>\n",
       "    <tr style=\"text-align: right;\">\n",
       "      <th></th>\n",
       "      <th>user_input</th>\n",
       "      <th>reference_contexts</th>\n",
       "      <th>reference</th>\n",
       "      <th>synthesizer_name</th>\n",
       "    </tr>\n",
       "  </thead>\n",
       "  <tbody>\n",
       "    <tr>\n",
       "      <th>0</th>\n",
       "      <td>How did Brownell and Horgen describe the moder...</td>\n",
       "      <td>[Context of Lifestyle Modification for Obesity...</td>\n",
       "      <td>Brownell and Horgen (2004) described the moder...</td>\n",
       "      <td>single_hop_specifc_query_synthesizer</td>\n",
       "    </tr>\n",
       "    <tr>\n",
       "      <th>1</th>\n",
       "      <td>What Jensen et al. say about calorie intake fo...</td>\n",
       "      <td>[Principal Components of Lifestyle Modificatio...</td>\n",
       "      <td>Jensen et al. (2014) recommend a diet designed...</td>\n",
       "      <td>single_hop_specifc_query_synthesizer</td>\n",
       "    </tr>\n",
       "    <tr>\n",
       "      <th>2</th>\n",
       "      <td>What Burke et al., 2012 say about using smartp...</td>\n",
       "      <td>[Efficacy of Lifestyle Modification: Short Ter...</td>\n",
       "      <td>Burke et al., 2012 found that in randomized co...</td>\n",
       "      <td>single_hop_specifc_query_synthesizer</td>\n",
       "    </tr>\n",
       "    <tr>\n",
       "      <th>3</th>\n",
       "      <td>Who Rosenbaum?</td>\n",
       "      <td>[t h o r M a n u s c r i p t A u t h o r M a n...</td>\n",
       "      <td>Rosenbaum, along with Leibel, is mentioned in ...</td>\n",
       "      <td>single_hop_specifc_query_synthesizer</td>\n",
       "    </tr>\n",
       "    <tr>\n",
       "      <th>4</th>\n",
       "      <td>How does the prevalence of obesity in the US c...</td>\n",
       "      <td>[&lt;1-hop&gt;\\n\\nClinicalReview&amp;Education JAMA | Re...</td>\n",
       "      <td>The prevalence of obesity in the US is signifi...</td>\n",
       "      <td>multi_hop_abstract_query_synthesizer</td>\n",
       "    </tr>\n",
       "    <tr>\n",
       "      <th>5</th>\n",
       "      <td>How do the current evidence-based obesity mana...</td>\n",
       "      <td>[&lt;1-hop&gt;\\n\\nClinicalReview&amp;Education JAMA | Re...</td>\n",
       "      <td>Current evidence-based obesity management stra...</td>\n",
       "      <td>multi_hop_abstract_query_synthesizer</td>\n",
       "    </tr>\n",
       "    <tr>\n",
       "      <th>6</th>\n",
       "      <td>How do global obesity trends and the effective...</td>\n",
       "      <td>[&lt;1-hop&gt;\\n\\nClinicalReview&amp;Education JAMA | Re...</td>\n",
       "      <td>Global obesity trends have shown a significant...</td>\n",
       "      <td>multi_hop_abstract_query_synthesizer</td>\n",
       "    </tr>\n",
       "    <tr>\n",
       "      <th>7</th>\n",
       "      <td>How does the AI Fat Loss Chatbot contribute to...</td>\n",
       "      <td>[&lt;1-hop&gt;\\n\\n2/23/25, 1:33 PM I Built an AI Fat...</td>\n",
       "      <td>The AI Fat Loss Chatbot, as described by Chris...</td>\n",
       "      <td>multi_hop_abstract_query_synthesizer</td>\n",
       "    </tr>\n",
       "    <tr>\n",
       "      <th>8</th>\n",
       "      <td>How does semaglutide compare to other GLP-1 re...</td>\n",
       "      <td>[&lt;1-hop&gt;\\n\\nof murine pre-proglucagon-producin...</td>\n",
       "      <td>Semaglutide, a GLP-1 receptor agonist, has bee...</td>\n",
       "      <td>multi_hop_specific_query_synthesizer</td>\n",
       "    </tr>\n",
       "    <tr>\n",
       "      <th>9</th>\n",
       "      <td>How do GIPR/GLP-1R co-agonists achieve weight ...</td>\n",
       "      <td>[&lt;1-hop&gt;\\n\\ninjected (158). The explosion of i...</td>\n",
       "      <td>GIPR/GLP-1R co-agonists achieve weight loss by...</td>\n",
       "      <td>multi_hop_specific_query_synthesizer</td>\n",
       "    </tr>\n",
       "    <tr>\n",
       "      <th>10</th>\n",
       "      <td>How do incretin-based therapies compare to oth...</td>\n",
       "      <td>[&lt;1-hop&gt;\\n\\npossibility that adding leptin to ...</td>\n",
       "      <td>Incretin-based therapies have shown profound w...</td>\n",
       "      <td>multi_hop_specific_query_synthesizer</td>\n",
       "    </tr>\n",
       "    <tr>\n",
       "      <th>11</th>\n",
       "      <td>How do POMC neurons and GLP-1R agonists contri...</td>\n",
       "      <td>[&lt;1-hop&gt;\\n\\nneurons is associated with negativ...</td>\n",
       "      <td>POMC neurons play a significant role in obesit...</td>\n",
       "      <td>multi_hop_specific_query_synthesizer</td>\n",
       "    </tr>\n",
       "  </tbody>\n",
       "</table>\n",
       "</div>"
      ],
      "text/plain": [
       "                                           user_input  \\\n",
       "0   How did Brownell and Horgen describe the moder...   \n",
       "1   What Jensen et al. say about calorie intake fo...   \n",
       "2   What Burke et al., 2012 say about using smartp...   \n",
       "3                                      Who Rosenbaum?   \n",
       "4   How does the prevalence of obesity in the US c...   \n",
       "5   How do the current evidence-based obesity mana...   \n",
       "6   How do global obesity trends and the effective...   \n",
       "7   How does the AI Fat Loss Chatbot contribute to...   \n",
       "8   How does semaglutide compare to other GLP-1 re...   \n",
       "9   How do GIPR/GLP-1R co-agonists achieve weight ...   \n",
       "10  How do incretin-based therapies compare to oth...   \n",
       "11  How do POMC neurons and GLP-1R agonists contri...   \n",
       "\n",
       "                                   reference_contexts  \\\n",
       "0   [Context of Lifestyle Modification for Obesity...   \n",
       "1   [Principal Components of Lifestyle Modificatio...   \n",
       "2   [Efficacy of Lifestyle Modification: Short Ter...   \n",
       "3   [t h o r M a n u s c r i p t A u t h o r M a n...   \n",
       "4   [<1-hop>\\n\\nClinicalReview&Education JAMA | Re...   \n",
       "5   [<1-hop>\\n\\nClinicalReview&Education JAMA | Re...   \n",
       "6   [<1-hop>\\n\\nClinicalReview&Education JAMA | Re...   \n",
       "7   [<1-hop>\\n\\n2/23/25, 1:33 PM I Built an AI Fat...   \n",
       "8   [<1-hop>\\n\\nof murine pre-proglucagon-producin...   \n",
       "9   [<1-hop>\\n\\ninjected (158). The explosion of i...   \n",
       "10  [<1-hop>\\n\\npossibility that adding leptin to ...   \n",
       "11  [<1-hop>\\n\\nneurons is associated with negativ...   \n",
       "\n",
       "                                            reference  \\\n",
       "0   Brownell and Horgen (2004) described the moder...   \n",
       "1   Jensen et al. (2014) recommend a diet designed...   \n",
       "2   Burke et al., 2012 found that in randomized co...   \n",
       "3   Rosenbaum, along with Leibel, is mentioned in ...   \n",
       "4   The prevalence of obesity in the US is signifi...   \n",
       "5   Current evidence-based obesity management stra...   \n",
       "6   Global obesity trends have shown a significant...   \n",
       "7   The AI Fat Loss Chatbot, as described by Chris...   \n",
       "8   Semaglutide, a GLP-1 receptor agonist, has bee...   \n",
       "9   GIPR/GLP-1R co-agonists achieve weight loss by...   \n",
       "10  Incretin-based therapies have shown profound w...   \n",
       "11  POMC neurons play a significant role in obesit...   \n",
       "\n",
       "                        synthesizer_name  \n",
       "0   single_hop_specifc_query_synthesizer  \n",
       "1   single_hop_specifc_query_synthesizer  \n",
       "2   single_hop_specifc_query_synthesizer  \n",
       "3   single_hop_specifc_query_synthesizer  \n",
       "4   multi_hop_abstract_query_synthesizer  \n",
       "5   multi_hop_abstract_query_synthesizer  \n",
       "6   multi_hop_abstract_query_synthesizer  \n",
       "7   multi_hop_abstract_query_synthesizer  \n",
       "8   multi_hop_specific_query_synthesizer  \n",
       "9   multi_hop_specific_query_synthesizer  \n",
       "10  multi_hop_specific_query_synthesizer  \n",
       "11  multi_hop_specific_query_synthesizer  "
      ]
     },
     "execution_count": 205,
     "metadata": {},
     "output_type": "execute_result"
    }
   ],
   "source": [
    "dataset.to_pandas()"
   ]
  },
  {
   "cell_type": "markdown",
   "metadata": {},
   "source": [
    "### Context Parsing"
   ]
  },
  {
   "cell_type": "code",
   "execution_count": 206,
   "metadata": {},
   "outputs": [],
   "source": [
    "from langchain_core.tools import Tool\n",
    "from langchain_core.messages import HumanMessage\n",
    "\n",
    "def parse_context_from_invoked_tools(invoked_tools_log: list, tool_belt: list, query: str) -> dict:\n",
    "    \"\"\"\n",
    "    Parses and aggregates context dynamically based on which tools were actually invoked.\n",
    "\n",
    "    Args:\n",
    "        invoked_tools_log (list): List of tool names that were invoked.\n",
    "        tool_belt (list): List of available Tool instances.\n",
    "        query (str): The user's query for context generation.\n",
    "\n",
    "    Returns:\n",
    "        dict: A structured response with 'messages' and 'context'.\n",
    "    \"\"\"\n",
    "    context_list = []\n",
    "    tool_dict = {tool.name: tool for tool in tool_belt if hasattr(tool, \"name\")}  # Map tool names to tools\n",
    "\n",
    "    for tool_name in invoked_tools_log:\n",
    "        if tool_name in tool_dict:\n",
    "            tool = tool_dict[tool_name]\n",
    "            try:\n",
    "                response = tool.func(query)  # Invoke the tool with user query\n",
    "\n",
    "                if isinstance(response, dict):  # If tool returns structured data\n",
    "                    extracted_text = \"\\n\".join(msg.content for msg in response.get(\"messages\", []) if hasattr(msg, \"content\"))\n",
    "                    context_list.append(extracted_text)\n",
    "                else:  # If tool returns raw text\n",
    "                    context_list.append(str(response))\n",
    "\n",
    "            except Exception as e:\n",
    "                context_list.append(f\"Error extracting context from {tool.name}: {str(e)}\")\n",
    "\n",
    "    # Ensure 'context' is NEVER empty to prevent errors\n",
    "    final_context = \"\\n\".join(context_list) if context_list else \"No relevant context found.\"\n",
    "\n",
    "    return {\n",
    "        \"messages\": [HumanMessage(content=final_context)],\n",
    "        \"context\": final_context  # Ensure context is always a string\n",
    "    }\n",
    "\n",
    "\n",
    "async def extract_invoked_tools_context(compiled_graph, inputs, tool_belt):\n",
    "    \"\"\"\n",
    "    Extracts tools invoked during streaming updates and dynamically generates context.\n",
    "\n",
    "    Args:\n",
    "        compiled_graph: The LangChain compiled graph object handling execution.\n",
    "        inputs (dict): The input query dictionary.\n",
    "        tool_belt (list): List of available tools.\n",
    "\n",
    "    Returns:\n",
    "        dict: A structured response containing 'messages' and 'context'.\n",
    "    \"\"\"\n",
    "    invoked_tools_log = []  # Track tools that were actually used\n",
    "\n",
    "    async for chunk in compiled_graph.astream(inputs, stream_mode=\"updates\"):\n",
    "        for node, values in chunk.items():\n",
    "            print(f\"Receiving update from node: '{node}'\")\n",
    "            if node == \"action\":\n",
    "                tool_used = values[\"messages\"][0].name\n",
    "                print(f\"Tool Used: {tool_used}\")\n",
    "                invoked_tools_log.append(tool_used)  # Keep track of invoked tools\n",
    "            \n",
    "            print(values[\"messages\"])\n",
    "            print(\"\\n\\n\")\n",
    "\n",
    "    # Remove duplicates in case of repeated tool calls\n",
    "    invoked_tools_log = list(set(invoked_tools_log))\n",
    "\n",
    "    # Parse context dynamically from the tools actually used\n",
    "    query = inputs.get(\"question\", \"\")\n",
    "    dynamic_context = parse_context_from_invoked_tools(invoked_tools_log, tool_belt, query)\n",
    "\n",
    "    # Ensure at least one valid update is written\n",
    "    if not dynamic_context.get(\"messages\"):\n",
    "        dynamic_context[\"messages\"] = [HumanMessage(content=\"No additional context available.\")]\n",
    "\n",
    "    if not dynamic_context.get(\"context\"):\n",
    "        dynamic_context[\"context\"] = \"No relevant context found.\"\n",
    "\n",
    "    return dynamic_context  "
   ]
  },
  {
   "cell_type": "markdown",
   "metadata": {},
   "source": [
    "### Eval Baseline"
   ]
  },
  {
   "cell_type": "code",
   "execution_count": 207,
   "metadata": {},
   "outputs": [],
   "source": [
    "#for test_row in dataset:\n",
    "#  response = graph.invoke({\"question\" : test_row.eval_sample.user_input})\n",
    "#  test_row.eval_sample.response = response[\"response\"]\n",
    "#  test_row.eval_sample.retrieved_contexts = [context.page_content for context in response[\"context\"]]\n",
    "async def process_dataset_with_dynamic_context(dataset, compiled_graph, tool_belt):\n",
    "    \"\"\"\n",
    "    Processes the dataset and dynamically injects context based on invoked tools.\n",
    "\n",
    "    Args:\n",
    "        dataset (list): List of test rows.\n",
    "        compiled_graph: The LangChain compiled graph.\n",
    "        tool_belt (list): Available tools for context retrieval.\n",
    "\n",
    "    Returns:\n",
    "        None (modifies dataset in place).\n",
    "    \"\"\"\n",
    "    for test_row in dataset:\n",
    "        user_query = test_row.eval_sample.user_input\n",
    "        inputs = {\"question\": user_query}\n",
    "\n",
    "        # Step 1: Extract dynamic context\n",
    "        dynamic_context = await extract_invoked_tools_context(compiled_graph, inputs, tool_belt)\n",
    "\n",
    "        # Step 2: Invoke the graph\n",
    "        response = graph.invoke(inputs)\n",
    "\n",
    "        # Step 3: Debugging Step - Check response\n",
    "        print(\"Graph Response:\", response)\n",
    "\n",
    "        # Step 4: Inject responses and context\n",
    "        test_row.eval_sample.response = response.get(\"response\", \"No response\")\n",
    "\n",
    "        # Ensure retrieved_contexts is properly structured\n",
    "        if \"context\" in response and response[\"context\"]:\n",
    "            test_row.eval_sample.retrieved_contexts = [context.page_content for context in response[\"context\"]]\n",
    "        elif \"context\" in dynamic_context:\n",
    "            test_row.eval_sample.retrieved_contexts = [dynamic_context[\"context\"]]\n",
    "        else:\n",
    "            test_row.eval_sample.retrieved_contexts = [\"No context available.\"]"
   ]
  },
  {
   "cell_type": "code",
   "execution_count": 208,
   "metadata": {},
   "outputs": [
    {
     "data": {
      "text/html": [
       "<div>\n",
       "<style scoped>\n",
       "    .dataframe tbody tr th:only-of-type {\n",
       "        vertical-align: middle;\n",
       "    }\n",
       "\n",
       "    .dataframe tbody tr th {\n",
       "        vertical-align: top;\n",
       "    }\n",
       "\n",
       "    .dataframe thead th {\n",
       "        text-align: right;\n",
       "    }\n",
       "</style>\n",
       "<table border=\"1\" class=\"dataframe\">\n",
       "  <thead>\n",
       "    <tr style=\"text-align: right;\">\n",
       "      <th></th>\n",
       "      <th>user_input</th>\n",
       "      <th>reference_contexts</th>\n",
       "      <th>reference</th>\n",
       "      <th>synthesizer_name</th>\n",
       "    </tr>\n",
       "  </thead>\n",
       "  <tbody>\n",
       "    <tr>\n",
       "      <th>0</th>\n",
       "      <td>How did Brownell and Horgen describe the moder...</td>\n",
       "      <td>[Context of Lifestyle Modification for Obesity...</td>\n",
       "      <td>Brownell and Horgen (2004) described the moder...</td>\n",
       "      <td>single_hop_specifc_query_synthesizer</td>\n",
       "    </tr>\n",
       "    <tr>\n",
       "      <th>1</th>\n",
       "      <td>What Jensen et al. say about calorie intake fo...</td>\n",
       "      <td>[Principal Components of Lifestyle Modificatio...</td>\n",
       "      <td>Jensen et al. (2014) recommend a diet designed...</td>\n",
       "      <td>single_hop_specifc_query_synthesizer</td>\n",
       "    </tr>\n",
       "    <tr>\n",
       "      <th>2</th>\n",
       "      <td>What Burke et al., 2012 say about using smartp...</td>\n",
       "      <td>[Efficacy of Lifestyle Modification: Short Ter...</td>\n",
       "      <td>Burke et al., 2012 found that in randomized co...</td>\n",
       "      <td>single_hop_specifc_query_synthesizer</td>\n",
       "    </tr>\n",
       "    <tr>\n",
       "      <th>3</th>\n",
       "      <td>Who Rosenbaum?</td>\n",
       "      <td>[t h o r M a n u s c r i p t A u t h o r M a n...</td>\n",
       "      <td>Rosenbaum, along with Leibel, is mentioned in ...</td>\n",
       "      <td>single_hop_specifc_query_synthesizer</td>\n",
       "    </tr>\n",
       "    <tr>\n",
       "      <th>4</th>\n",
       "      <td>How does the prevalence of obesity in the US c...</td>\n",
       "      <td>[&lt;1-hop&gt;\\n\\nClinicalReview&amp;Education JAMA | Re...</td>\n",
       "      <td>The prevalence of obesity in the US is signifi...</td>\n",
       "      <td>multi_hop_abstract_query_synthesizer</td>\n",
       "    </tr>\n",
       "    <tr>\n",
       "      <th>5</th>\n",
       "      <td>How do the current evidence-based obesity mana...</td>\n",
       "      <td>[&lt;1-hop&gt;\\n\\nClinicalReview&amp;Education JAMA | Re...</td>\n",
       "      <td>Current evidence-based obesity management stra...</td>\n",
       "      <td>multi_hop_abstract_query_synthesizer</td>\n",
       "    </tr>\n",
       "    <tr>\n",
       "      <th>6</th>\n",
       "      <td>How do global obesity trends and the effective...</td>\n",
       "      <td>[&lt;1-hop&gt;\\n\\nClinicalReview&amp;Education JAMA | Re...</td>\n",
       "      <td>Global obesity trends have shown a significant...</td>\n",
       "      <td>multi_hop_abstract_query_synthesizer</td>\n",
       "    </tr>\n",
       "    <tr>\n",
       "      <th>7</th>\n",
       "      <td>How does the AI Fat Loss Chatbot contribute to...</td>\n",
       "      <td>[&lt;1-hop&gt;\\n\\n2/23/25, 1:33 PM I Built an AI Fat...</td>\n",
       "      <td>The AI Fat Loss Chatbot, as described by Chris...</td>\n",
       "      <td>multi_hop_abstract_query_synthesizer</td>\n",
       "    </tr>\n",
       "    <tr>\n",
       "      <th>8</th>\n",
       "      <td>How does semaglutide compare to other GLP-1 re...</td>\n",
       "      <td>[&lt;1-hop&gt;\\n\\nof murine pre-proglucagon-producin...</td>\n",
       "      <td>Semaglutide, a GLP-1 receptor agonist, has bee...</td>\n",
       "      <td>multi_hop_specific_query_synthesizer</td>\n",
       "    </tr>\n",
       "    <tr>\n",
       "      <th>9</th>\n",
       "      <td>How do GIPR/GLP-1R co-agonists achieve weight ...</td>\n",
       "      <td>[&lt;1-hop&gt;\\n\\ninjected (158). The explosion of i...</td>\n",
       "      <td>GIPR/GLP-1R co-agonists achieve weight loss by...</td>\n",
       "      <td>multi_hop_specific_query_synthesizer</td>\n",
       "    </tr>\n",
       "    <tr>\n",
       "      <th>10</th>\n",
       "      <td>How do incretin-based therapies compare to oth...</td>\n",
       "      <td>[&lt;1-hop&gt;\\n\\npossibility that adding leptin to ...</td>\n",
       "      <td>Incretin-based therapies have shown profound w...</td>\n",
       "      <td>multi_hop_specific_query_synthesizer</td>\n",
       "    </tr>\n",
       "    <tr>\n",
       "      <th>11</th>\n",
       "      <td>How do POMC neurons and GLP-1R agonists contri...</td>\n",
       "      <td>[&lt;1-hop&gt;\\n\\nneurons is associated with negativ...</td>\n",
       "      <td>POMC neurons play a significant role in obesit...</td>\n",
       "      <td>multi_hop_specific_query_synthesizer</td>\n",
       "    </tr>\n",
       "  </tbody>\n",
       "</table>\n",
       "</div>"
      ],
      "text/plain": [
       "                                           user_input  \\\n",
       "0   How did Brownell and Horgen describe the moder...   \n",
       "1   What Jensen et al. say about calorie intake fo...   \n",
       "2   What Burke et al., 2012 say about using smartp...   \n",
       "3                                      Who Rosenbaum?   \n",
       "4   How does the prevalence of obesity in the US c...   \n",
       "5   How do the current evidence-based obesity mana...   \n",
       "6   How do global obesity trends and the effective...   \n",
       "7   How does the AI Fat Loss Chatbot contribute to...   \n",
       "8   How does semaglutide compare to other GLP-1 re...   \n",
       "9   How do GIPR/GLP-1R co-agonists achieve weight ...   \n",
       "10  How do incretin-based therapies compare to oth...   \n",
       "11  How do POMC neurons and GLP-1R agonists contri...   \n",
       "\n",
       "                                   reference_contexts  \\\n",
       "0   [Context of Lifestyle Modification for Obesity...   \n",
       "1   [Principal Components of Lifestyle Modificatio...   \n",
       "2   [Efficacy of Lifestyle Modification: Short Ter...   \n",
       "3   [t h o r M a n u s c r i p t A u t h o r M a n...   \n",
       "4   [<1-hop>\\n\\nClinicalReview&Education JAMA | Re...   \n",
       "5   [<1-hop>\\n\\nClinicalReview&Education JAMA | Re...   \n",
       "6   [<1-hop>\\n\\nClinicalReview&Education JAMA | Re...   \n",
       "7   [<1-hop>\\n\\n2/23/25, 1:33 PM I Built an AI Fat...   \n",
       "8   [<1-hop>\\n\\nof murine pre-proglucagon-producin...   \n",
       "9   [<1-hop>\\n\\ninjected (158). The explosion of i...   \n",
       "10  [<1-hop>\\n\\npossibility that adding leptin to ...   \n",
       "11  [<1-hop>\\n\\nneurons is associated with negativ...   \n",
       "\n",
       "                                            reference  \\\n",
       "0   Brownell and Horgen (2004) described the moder...   \n",
       "1   Jensen et al. (2014) recommend a diet designed...   \n",
       "2   Burke et al., 2012 found that in randomized co...   \n",
       "3   Rosenbaum, along with Leibel, is mentioned in ...   \n",
       "4   The prevalence of obesity in the US is signifi...   \n",
       "5   Current evidence-based obesity management stra...   \n",
       "6   Global obesity trends have shown a significant...   \n",
       "7   The AI Fat Loss Chatbot, as described by Chris...   \n",
       "8   Semaglutide, a GLP-1 receptor agonist, has bee...   \n",
       "9   GIPR/GLP-1R co-agonists achieve weight loss by...   \n",
       "10  Incretin-based therapies have shown profound w...   \n",
       "11  POMC neurons play a significant role in obesit...   \n",
       "\n",
       "                        synthesizer_name  \n",
       "0   single_hop_specifc_query_synthesizer  \n",
       "1   single_hop_specifc_query_synthesizer  \n",
       "2   single_hop_specifc_query_synthesizer  \n",
       "3   single_hop_specifc_query_synthesizer  \n",
       "4   multi_hop_abstract_query_synthesizer  \n",
       "5   multi_hop_abstract_query_synthesizer  \n",
       "6   multi_hop_abstract_query_synthesizer  \n",
       "7   multi_hop_abstract_query_synthesizer  \n",
       "8   multi_hop_specific_query_synthesizer  \n",
       "9   multi_hop_specific_query_synthesizer  \n",
       "10  multi_hop_specific_query_synthesizer  \n",
       "11  multi_hop_specific_query_synthesizer  "
      ]
     },
     "execution_count": 208,
     "metadata": {},
     "output_type": "execute_result"
    }
   ],
   "source": [
    "dataset.to_pandas()"
   ]
  }
 ],
 "metadata": {
  "colab": {
   "provenance": []
  },
  "kernelspec": {
   "display_name": ".venv",
   "language": "python",
   "name": "python3"
  },
  "language_info": {
   "codemirror_mode": {
    "name": "ipython",
    "version": 3
   },
   "file_extension": ".py",
   "mimetype": "text/x-python",
   "name": "python",
   "nbconvert_exporter": "python",
   "pygments_lexer": "ipython3",
   "version": "3.12.0"
  },
  "widgets": {
   "application/vnd.jupyter.widget-state+json": {
    "041e22a9b5514e36bd4d1dac01d5d398": {
     "model_module": "@jupyter-widgets/base",
     "model_module_version": "1.2.0",
     "model_name": "LayoutModel",
     "state": {
      "_model_module": "@jupyter-widgets/base",
      "_model_module_version": "1.2.0",
      "_model_name": "LayoutModel",
      "_view_count": null,
      "_view_module": "@jupyter-widgets/base",
      "_view_module_version": "1.2.0",
      "_view_name": "LayoutView",
      "align_content": null,
      "align_items": null,
      "align_self": null,
      "border": null,
      "bottom": null,
      "display": null,
      "flex": null,
      "flex_flow": null,
      "grid_area": null,
      "grid_auto_columns": null,
      "grid_auto_flow": null,
      "grid_auto_rows": null,
      "grid_column": null,
      "grid_gap": null,
      "grid_row": null,
      "grid_template_areas": null,
      "grid_template_columns": null,
      "grid_template_rows": null,
      "height": null,
      "justify_content": null,
      "justify_items": null,
      "left": null,
      "margin": null,
      "max_height": null,
      "max_width": null,
      "min_height": null,
      "min_width": null,
      "object_fit": null,
      "object_position": null,
      "order": null,
      "overflow": null,
      "overflow_x": null,
      "overflow_y": null,
      "padding": null,
      "right": null,
      "top": null,
      "visibility": null,
      "width": null
     }
    },
    "0d622ccc56264fac8fd7508dbdbe6e29": {
     "model_module": "@jupyter-widgets/controls",
     "model_module_version": "1.5.0",
     "model_name": "DescriptionStyleModel",
     "state": {
      "_model_module": "@jupyter-widgets/controls",
      "_model_module_version": "1.5.0",
      "_model_name": "DescriptionStyleModel",
      "_view_count": null,
      "_view_module": "@jupyter-widgets/base",
      "_view_module_version": "1.2.0",
      "_view_name": "StyleView",
      "description_width": ""
     }
    },
    "53e33aae3b97490c82aec7bbb0d6ebba": {
     "model_module": "@jupyter-widgets/controls",
     "model_module_version": "1.5.0",
     "model_name": "HTMLModel",
     "state": {
      "_dom_classes": [],
      "_model_module": "@jupyter-widgets/controls",
      "_model_module_version": "1.5.0",
      "_model_name": "HTMLModel",
      "_view_count": null,
      "_view_module": "@jupyter-widgets/controls",
      "_view_module_version": "1.5.0",
      "_view_name": "HTMLView",
      "description": "",
      "description_tooltip": null,
      "layout": "IPY_MODEL_041e22a9b5514e36bd4d1dac01d5d398",
      "placeholder": "​",
      "style": "IPY_MODEL_886d762f2a7c421382efb5502c6d42a1",
      "value": ""
     }
    },
    "716557ad09874dcb989d75f7c74424cd": {
     "model_module": "@jupyter-widgets/controls",
     "model_module_version": "1.5.0",
     "model_name": "ProgressStyleModel",
     "state": {
      "_model_module": "@jupyter-widgets/controls",
      "_model_module_version": "1.5.0",
      "_model_name": "ProgressStyleModel",
      "_view_count": null,
      "_view_module": "@jupyter-widgets/base",
      "_view_module_version": "1.2.0",
      "_view_name": "StyleView",
      "bar_color": null,
      "description_width": ""
     }
    },
    "72adef9b70dd48198b7322b6c5b113cf": {
     "model_module": "@jupyter-widgets/controls",
     "model_module_version": "1.5.0",
     "model_name": "HTMLModel",
     "state": {
      "_dom_classes": [],
      "_model_module": "@jupyter-widgets/controls",
      "_model_module_version": "1.5.0",
      "_model_name": "HTMLModel",
      "_view_count": null,
      "_view_module": "@jupyter-widgets/controls",
      "_view_module_version": "1.5.0",
      "_view_name": "HTMLView",
      "description": "",
      "description_tooltip": null,
      "layout": "IPY_MODEL_77d4c0ebaae045b58efc4f789c9a2360",
      "placeholder": "​",
      "style": "IPY_MODEL_0d622ccc56264fac8fd7508dbdbe6e29",
      "value": " 6/? [00:36&lt;00:00,  5.78s/it]"
     }
    },
    "77d4c0ebaae045b58efc4f789c9a2360": {
     "model_module": "@jupyter-widgets/base",
     "model_module_version": "1.2.0",
     "model_name": "LayoutModel",
     "state": {
      "_model_module": "@jupyter-widgets/base",
      "_model_module_version": "1.2.0",
      "_model_name": "LayoutModel",
      "_view_count": null,
      "_view_module": "@jupyter-widgets/base",
      "_view_module_version": "1.2.0",
      "_view_name": "LayoutView",
      "align_content": null,
      "align_items": null,
      "align_self": null,
      "border": null,
      "bottom": null,
      "display": null,
      "flex": null,
      "flex_flow": null,
      "grid_area": null,
      "grid_auto_columns": null,
      "grid_auto_flow": null,
      "grid_auto_rows": null,
      "grid_column": null,
      "grid_gap": null,
      "grid_row": null,
      "grid_template_areas": null,
      "grid_template_columns": null,
      "grid_template_rows": null,
      "height": null,
      "justify_content": null,
      "justify_items": null,
      "left": null,
      "margin": null,
      "max_height": null,
      "max_width": null,
      "min_height": null,
      "min_width": null,
      "object_fit": null,
      "object_position": null,
      "order": null,
      "overflow": null,
      "overflow_x": null,
      "overflow_y": null,
      "padding": null,
      "right": null,
      "top": null,
      "visibility": null,
      "width": null
     }
    },
    "886d762f2a7c421382efb5502c6d42a1": {
     "model_module": "@jupyter-widgets/controls",
     "model_module_version": "1.5.0",
     "model_name": "DescriptionStyleModel",
     "state": {
      "_model_module": "@jupyter-widgets/controls",
      "_model_module_version": "1.5.0",
      "_model_name": "DescriptionStyleModel",
      "_view_count": null,
      "_view_module": "@jupyter-widgets/base",
      "_view_module_version": "1.2.0",
      "_view_name": "StyleView",
      "description_width": ""
     }
    },
    "8a61d045ffd44ac58f3f13eb10044836": {
     "model_module": "@jupyter-widgets/base",
     "model_module_version": "1.2.0",
     "model_name": "LayoutModel",
     "state": {
      "_model_module": "@jupyter-widgets/base",
      "_model_module_version": "1.2.0",
      "_model_name": "LayoutModel",
      "_view_count": null,
      "_view_module": "@jupyter-widgets/base",
      "_view_module_version": "1.2.0",
      "_view_name": "LayoutView",
      "align_content": null,
      "align_items": null,
      "align_self": null,
      "border": null,
      "bottom": null,
      "display": null,
      "flex": null,
      "flex_flow": null,
      "grid_area": null,
      "grid_auto_columns": null,
      "grid_auto_flow": null,
      "grid_auto_rows": null,
      "grid_column": null,
      "grid_gap": null,
      "grid_row": null,
      "grid_template_areas": null,
      "grid_template_columns": null,
      "grid_template_rows": null,
      "height": null,
      "justify_content": null,
      "justify_items": null,
      "left": null,
      "margin": null,
      "max_height": null,
      "max_width": null,
      "min_height": null,
      "min_width": null,
      "object_fit": null,
      "object_position": null,
      "order": null,
      "overflow": null,
      "overflow_x": null,
      "overflow_y": null,
      "padding": null,
      "right": null,
      "top": null,
      "visibility": null,
      "width": null
     }
    },
    "ab91fd625bbd43afbf8c6398193a88d0": {
     "model_module": "@jupyter-widgets/base",
     "model_module_version": "1.2.0",
     "model_name": "LayoutModel",
     "state": {
      "_model_module": "@jupyter-widgets/base",
      "_model_module_version": "1.2.0",
      "_model_name": "LayoutModel",
      "_view_count": null,
      "_view_module": "@jupyter-widgets/base",
      "_view_module_version": "1.2.0",
      "_view_name": "LayoutView",
      "align_content": null,
      "align_items": null,
      "align_self": null,
      "border": null,
      "bottom": null,
      "display": null,
      "flex": null,
      "flex_flow": null,
      "grid_area": null,
      "grid_auto_columns": null,
      "grid_auto_flow": null,
      "grid_auto_rows": null,
      "grid_column": null,
      "grid_gap": null,
      "grid_row": null,
      "grid_template_areas": null,
      "grid_template_columns": null,
      "grid_template_rows": null,
      "height": null,
      "justify_content": null,
      "justify_items": null,
      "left": null,
      "margin": null,
      "max_height": null,
      "max_width": null,
      "min_height": null,
      "min_width": null,
      "object_fit": null,
      "object_position": null,
      "order": null,
      "overflow": null,
      "overflow_x": null,
      "overflow_y": null,
      "padding": null,
      "right": null,
      "top": null,
      "visibility": null,
      "width": "20px"
     }
    },
    "ad84e0e971d3455db2efe7dd0d1f803e": {
     "model_module": "@jupyter-widgets/controls",
     "model_module_version": "1.5.0",
     "model_name": "FloatProgressModel",
     "state": {
      "_dom_classes": [],
      "_model_module": "@jupyter-widgets/controls",
      "_model_module_version": "1.5.0",
      "_model_name": "FloatProgressModel",
      "_view_count": null,
      "_view_module": "@jupyter-widgets/controls",
      "_view_module_version": "1.5.0",
      "_view_name": "ProgressView",
      "bar_style": "success",
      "description": "",
      "description_tooltip": null,
      "layout": "IPY_MODEL_ab91fd625bbd43afbf8c6398193a88d0",
      "max": 1,
      "min": 0,
      "orientation": "horizontal",
      "style": "IPY_MODEL_716557ad09874dcb989d75f7c74424cd",
      "value": 1
     }
    },
    "efcf57067cf743d8b4ce059a61cbe02e": {
     "model_module": "@jupyter-widgets/controls",
     "model_module_version": "1.5.0",
     "model_name": "HBoxModel",
     "state": {
      "_dom_classes": [],
      "_model_module": "@jupyter-widgets/controls",
      "_model_module_version": "1.5.0",
      "_model_name": "HBoxModel",
      "_view_count": null,
      "_view_module": "@jupyter-widgets/controls",
      "_view_module_version": "1.5.0",
      "_view_name": "HBoxView",
      "box_style": "",
      "children": [
       "IPY_MODEL_53e33aae3b97490c82aec7bbb0d6ebba",
       "IPY_MODEL_ad84e0e971d3455db2efe7dd0d1f803e",
       "IPY_MODEL_72adef9b70dd48198b7322b6c5b113cf"
      ],
      "layout": "IPY_MODEL_8a61d045ffd44ac58f3f13eb10044836"
     }
    }
   }
  }
 },
 "nbformat": 4,
 "nbformat_minor": 4
}
